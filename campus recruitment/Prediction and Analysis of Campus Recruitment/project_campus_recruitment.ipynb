{
 "cells": [
  {
   "cell_type": "markdown",
   "metadata": {},
   "source": [
    "# preprocessing of the data"
   ]
  },
  {
   "cell_type": "code",
   "execution_count": 1,
   "metadata": {},
   "outputs": [
    {
     "name": "stdout",
     "output_type": "stream",
     "text": [
      "sl_no              0\n",
      "gender             0\n",
      "ssc_p              0\n",
      "ssc_b              0\n",
      "hsc_p              0\n",
      "hsc_b              0\n",
      "hsc_s              0\n",
      "degree_p           0\n",
      "degree_t           0\n",
      "workex             0\n",
      "etest_p            0\n",
      "specialisation     0\n",
      "mba_p              0\n",
      "status             0\n",
      "salary            67\n",
      "dtype: int64\n",
      "\n",
      "\n",
      "\n",
      "             sl_no       ssc_p       hsc_p    degree_p     etest_p       mba_p  \\\n",
      "count  215.000000  215.000000  215.000000  215.000000  215.000000  215.000000   \n",
      "mean   108.000000   67.303395   66.333163   66.370186   72.100558   62.278186   \n",
      "std     62.209324   10.827205   10.897509    7.358743   13.275956    5.833385   \n",
      "min      1.000000   40.890000   37.000000   50.000000   50.000000   51.210000   \n",
      "25%     54.500000   60.600000   60.900000   61.000000   60.000000   57.945000   \n",
      "50%    108.000000   67.000000   65.000000   66.000000   71.000000   62.000000   \n",
      "75%    161.500000   75.700000   73.000000   72.000000   83.500000   66.255000   \n",
      "max    215.000000   89.400000   97.700000   91.000000   98.000000   77.890000   \n",
      "\n",
      "              salary  \n",
      "count     215.000000  \n",
      "mean   287032.558140  \n",
      "std     84313.326308  \n",
      "min    200000.000000  \n",
      "25%    245000.000000  \n",
      "50%    268000.000000  \n",
      "75%    300000.000000  \n",
      "max    940000.000000  \n"
     ]
    },
    {
     "data": {
      "text/plain": [
       "array(['Commerce', 'Science', 'Arts'], dtype=object)"
      ]
     },
     "execution_count": 1,
     "metadata": {},
     "output_type": "execute_result"
    }
   ],
   "source": [
    "import pandas as pd \n",
    "df=pd.read_csv(\"PlacementinCampusRecruitment.csv\")\n",
    "df2=pd.read_csv(\"PlacementinCampusRecruitment.csv\")\n",
    "print(df.isnull().sum())\n",
    "df=df.interpolate() # handled the missing values\n",
    "print('\\n\\n\\n',df.describe())\n",
    "df.set_index('sl_no',inplace=True)\n",
    "df['hsc_s'].unique()\n",
    "\n"
   ]
  },
  {
   "cell_type": "code",
   "execution_count": 2,
   "metadata": {},
   "outputs": [
    {
     "data": {
      "text/html": [
       "<div>\n",
       "<style scoped>\n",
       "    .dataframe tbody tr th:only-of-type {\n",
       "        vertical-align: middle;\n",
       "    }\n",
       "\n",
       "    .dataframe tbody tr th {\n",
       "        vertical-align: top;\n",
       "    }\n",
       "\n",
       "    .dataframe thead th {\n",
       "        text-align: right;\n",
       "    }\n",
       "</style>\n",
       "<table border=\"1\" class=\"dataframe\">\n",
       "  <thead>\n",
       "    <tr style=\"text-align: right;\">\n",
       "      <th></th>\n",
       "      <th>gender</th>\n",
       "      <th>ssc_p</th>\n",
       "      <th>ssc_b</th>\n",
       "      <th>hsc_p</th>\n",
       "      <th>hsc_b</th>\n",
       "      <th>hsc_s</th>\n",
       "      <th>degree_p</th>\n",
       "      <th>degree_t</th>\n",
       "      <th>workex</th>\n",
       "      <th>etest_p</th>\n",
       "      <th>specialisation</th>\n",
       "      <th>mba_p</th>\n",
       "      <th>status</th>\n",
       "      <th>salary</th>\n",
       "    </tr>\n",
       "    <tr>\n",
       "      <th>sl_no</th>\n",
       "      <th></th>\n",
       "      <th></th>\n",
       "      <th></th>\n",
       "      <th></th>\n",
       "      <th></th>\n",
       "      <th></th>\n",
       "      <th></th>\n",
       "      <th></th>\n",
       "      <th></th>\n",
       "      <th></th>\n",
       "      <th></th>\n",
       "      <th></th>\n",
       "      <th></th>\n",
       "      <th></th>\n",
       "    </tr>\n",
       "  </thead>\n",
       "  <tbody>\n",
       "    <tr>\n",
       "      <th>1</th>\n",
       "      <td>1</td>\n",
       "      <td>67.00</td>\n",
       "      <td>1</td>\n",
       "      <td>91.00</td>\n",
       "      <td>1</td>\n",
       "      <td>1</td>\n",
       "      <td>58.00</td>\n",
       "      <td>2</td>\n",
       "      <td>0</td>\n",
       "      <td>55.0</td>\n",
       "      <td>1</td>\n",
       "      <td>58.80</td>\n",
       "      <td>1</td>\n",
       "      <td>270000.0</td>\n",
       "    </tr>\n",
       "    <tr>\n",
       "      <th>2</th>\n",
       "      <td>1</td>\n",
       "      <td>79.33</td>\n",
       "      <td>0</td>\n",
       "      <td>78.33</td>\n",
       "      <td>1</td>\n",
       "      <td>2</td>\n",
       "      <td>77.48</td>\n",
       "      <td>2</td>\n",
       "      <td>1</td>\n",
       "      <td>86.5</td>\n",
       "      <td>0</td>\n",
       "      <td>66.28</td>\n",
       "      <td>1</td>\n",
       "      <td>200000.0</td>\n",
       "    </tr>\n",
       "    <tr>\n",
       "      <th>3</th>\n",
       "      <td>1</td>\n",
       "      <td>65.00</td>\n",
       "      <td>0</td>\n",
       "      <td>68.00</td>\n",
       "      <td>0</td>\n",
       "      <td>0</td>\n",
       "      <td>64.00</td>\n",
       "      <td>0</td>\n",
       "      <td>0</td>\n",
       "      <td>75.0</td>\n",
       "      <td>0</td>\n",
       "      <td>57.80</td>\n",
       "      <td>1</td>\n",
       "      <td>250000.0</td>\n",
       "    </tr>\n",
       "    <tr>\n",
       "      <th>4</th>\n",
       "      <td>1</td>\n",
       "      <td>56.00</td>\n",
       "      <td>0</td>\n",
       "      <td>52.00</td>\n",
       "      <td>0</td>\n",
       "      <td>2</td>\n",
       "      <td>52.00</td>\n",
       "      <td>2</td>\n",
       "      <td>0</td>\n",
       "      <td>66.0</td>\n",
       "      <td>1</td>\n",
       "      <td>59.43</td>\n",
       "      <td>0</td>\n",
       "      <td>337500.0</td>\n",
       "    </tr>\n",
       "    <tr>\n",
       "      <th>5</th>\n",
       "      <td>1</td>\n",
       "      <td>85.80</td>\n",
       "      <td>0</td>\n",
       "      <td>73.60</td>\n",
       "      <td>0</td>\n",
       "      <td>1</td>\n",
       "      <td>73.30</td>\n",
       "      <td>0</td>\n",
       "      <td>0</td>\n",
       "      <td>96.8</td>\n",
       "      <td>0</td>\n",
       "      <td>55.50</td>\n",
       "      <td>1</td>\n",
       "      <td>425000.0</td>\n",
       "    </tr>\n",
       "  </tbody>\n",
       "</table>\n",
       "</div>"
      ],
      "text/plain": [
       "       gender  ssc_p  ssc_b  hsc_p  hsc_b  hsc_s  degree_p  degree_t  workex  \\\n",
       "sl_no                                                                          \n",
       "1           1  67.00      1  91.00      1      1     58.00         2       0   \n",
       "2           1  79.33      0  78.33      1      2     77.48         2       1   \n",
       "3           1  65.00      0  68.00      0      0     64.00         0       0   \n",
       "4           1  56.00      0  52.00      0      2     52.00         2       0   \n",
       "5           1  85.80      0  73.60      0      1     73.30         0       0   \n",
       "\n",
       "       etest_p  specialisation  mba_p  status    salary  \n",
       "sl_no                                                    \n",
       "1         55.0               1  58.80       1  270000.0  \n",
       "2         86.5               0  66.28       1  200000.0  \n",
       "3         75.0               0  57.80       1  250000.0  \n",
       "4         66.0               1  59.43       0  337500.0  \n",
       "5         96.8               0  55.50       1  425000.0  "
      ]
     },
     "execution_count": 2,
     "metadata": {},
     "output_type": "execute_result"
    }
   ],
   "source": [
    "from sklearn.preprocessing import LabelEncoder\n",
    "le = LabelEncoder()\n",
    "col = df[['gender','ssc_b','hsc_b','hsc_s','degree_t','workex','specialisation','status']]\n",
    "#observe carefully here we just handled the categorical data that is data containing strings in order to make our further\n",
    "# calculation easy\n",
    "\n",
    "for i in col:\n",
    "    df[i] = le.fit_transform(df[i])\n",
    "df.head()"
   ]
  },
  {
   "cell_type": "code",
   "execution_count": 3,
   "metadata": {},
   "outputs": [
    {
     "name": "stdout",
     "output_type": "stream",
     "text": [
      "<class 'pandas.core.frame.DataFrame'>\n",
      "Int64Index: 215 entries, 1 to 215\n",
      "Data columns (total 14 columns):\n",
      " #   Column          Non-Null Count  Dtype  \n",
      "---  ------          --------------  -----  \n",
      " 0   gender          215 non-null    int32  \n",
      " 1   ssc_p           215 non-null    float64\n",
      " 2   ssc_b           215 non-null    int32  \n",
      " 3   hsc_p           215 non-null    float64\n",
      " 4   hsc_b           215 non-null    int32  \n",
      " 5   hsc_s           215 non-null    int32  \n",
      " 6   degree_p        215 non-null    float64\n",
      " 7   degree_t        215 non-null    int32  \n",
      " 8   workex          215 non-null    int32  \n",
      " 9   etest_p         215 non-null    float64\n",
      " 10  specialisation  215 non-null    int32  \n",
      " 11  mba_p           215 non-null    float64\n",
      " 12  status          215 non-null    int32  \n",
      " 13  salary          215 non-null    float64\n",
      "dtypes: float64(6), int32(8)\n",
      "memory usage: 18.5 KB\n"
     ]
    }
   ],
   "source": [
    "df.info()"
   ]
  },
  {
   "cell_type": "code",
   "execution_count": 4,
   "metadata": {},
   "outputs": [
    {
     "data": {
      "text/plain": [
       "dtype('int32')"
      ]
     },
     "execution_count": 4,
     "metadata": {},
     "output_type": "execute_result"
    }
   ],
   "source": [
    "# we see that our salary column is present here as float and we need to change that to a suitable format\n",
    "df['salary'] = df['salary'].astype('int')\n",
    "df['salary'].dtype\n"
   ]
  },
  {
   "cell_type": "code",
   "execution_count": 5,
   "metadata": {},
   "outputs": [
    {
     "data": {
      "text/html": [
       "<div>\n",
       "<style scoped>\n",
       "    .dataframe tbody tr th:only-of-type {\n",
       "        vertical-align: middle;\n",
       "    }\n",
       "\n",
       "    .dataframe tbody tr th {\n",
       "        vertical-align: top;\n",
       "    }\n",
       "\n",
       "    .dataframe thead th {\n",
       "        text-align: right;\n",
       "    }\n",
       "</style>\n",
       "<table border=\"1\" class=\"dataframe\">\n",
       "  <thead>\n",
       "    <tr style=\"text-align: right;\">\n",
       "      <th></th>\n",
       "      <th>gender</th>\n",
       "      <th>ssc_p</th>\n",
       "      <th>ssc_b</th>\n",
       "      <th>hsc_p</th>\n",
       "      <th>hsc_b</th>\n",
       "      <th>hsc_s</th>\n",
       "      <th>degree_p</th>\n",
       "      <th>degree_t</th>\n",
       "      <th>workex</th>\n",
       "      <th>etest_p</th>\n",
       "      <th>specialisation</th>\n",
       "      <th>mba_p</th>\n",
       "      <th>status</th>\n",
       "      <th>salary</th>\n",
       "    </tr>\n",
       "  </thead>\n",
       "  <tbody>\n",
       "    <tr>\n",
       "      <th>count</th>\n",
       "      <td>215.000000</td>\n",
       "      <td>215.000000</td>\n",
       "      <td>215.000000</td>\n",
       "      <td>215.000000</td>\n",
       "      <td>215.000000</td>\n",
       "      <td>215.000000</td>\n",
       "      <td>215.000000</td>\n",
       "      <td>215.000000</td>\n",
       "      <td>215.000000</td>\n",
       "      <td>215.000000</td>\n",
       "      <td>215.000000</td>\n",
       "      <td>215.000000</td>\n",
       "      <td>215.000000</td>\n",
       "      <td>215.00000</td>\n",
       "    </tr>\n",
       "    <tr>\n",
       "      <th>mean</th>\n",
       "      <td>0.646512</td>\n",
       "      <td>67.303395</td>\n",
       "      <td>0.460465</td>\n",
       "      <td>66.333163</td>\n",
       "      <td>0.609302</td>\n",
       "      <td>1.372093</td>\n",
       "      <td>66.370186</td>\n",
       "      <td>0.600000</td>\n",
       "      <td>0.344186</td>\n",
       "      <td>72.100558</td>\n",
       "      <td>0.441860</td>\n",
       "      <td>62.278186</td>\n",
       "      <td>0.688372</td>\n",
       "      <td>287032.52093</td>\n",
       "    </tr>\n",
       "    <tr>\n",
       "      <th>std</th>\n",
       "      <td>0.479168</td>\n",
       "      <td>10.827205</td>\n",
       "      <td>0.499598</td>\n",
       "      <td>10.897509</td>\n",
       "      <td>0.489045</td>\n",
       "      <td>0.580978</td>\n",
       "      <td>7.358743</td>\n",
       "      <td>0.890238</td>\n",
       "      <td>0.476211</td>\n",
       "      <td>13.275956</td>\n",
       "      <td>0.497767</td>\n",
       "      <td>5.833385</td>\n",
       "      <td>0.464240</td>\n",
       "      <td>84313.32591</td>\n",
       "    </tr>\n",
       "    <tr>\n",
       "      <th>min</th>\n",
       "      <td>0.000000</td>\n",
       "      <td>40.890000</td>\n",
       "      <td>0.000000</td>\n",
       "      <td>37.000000</td>\n",
       "      <td>0.000000</td>\n",
       "      <td>0.000000</td>\n",
       "      <td>50.000000</td>\n",
       "      <td>0.000000</td>\n",
       "      <td>0.000000</td>\n",
       "      <td>50.000000</td>\n",
       "      <td>0.000000</td>\n",
       "      <td>51.210000</td>\n",
       "      <td>0.000000</td>\n",
       "      <td>200000.00000</td>\n",
       "    </tr>\n",
       "    <tr>\n",
       "      <th>25%</th>\n",
       "      <td>0.000000</td>\n",
       "      <td>60.600000</td>\n",
       "      <td>0.000000</td>\n",
       "      <td>60.900000</td>\n",
       "      <td>0.000000</td>\n",
       "      <td>1.000000</td>\n",
       "      <td>61.000000</td>\n",
       "      <td>0.000000</td>\n",
       "      <td>0.000000</td>\n",
       "      <td>60.000000</td>\n",
       "      <td>0.000000</td>\n",
       "      <td>57.945000</td>\n",
       "      <td>0.000000</td>\n",
       "      <td>245000.00000</td>\n",
       "    </tr>\n",
       "    <tr>\n",
       "      <th>50%</th>\n",
       "      <td>1.000000</td>\n",
       "      <td>67.000000</td>\n",
       "      <td>0.000000</td>\n",
       "      <td>65.000000</td>\n",
       "      <td>1.000000</td>\n",
       "      <td>1.000000</td>\n",
       "      <td>66.000000</td>\n",
       "      <td>0.000000</td>\n",
       "      <td>0.000000</td>\n",
       "      <td>71.000000</td>\n",
       "      <td>0.000000</td>\n",
       "      <td>62.000000</td>\n",
       "      <td>1.000000</td>\n",
       "      <td>268000.00000</td>\n",
       "    </tr>\n",
       "    <tr>\n",
       "      <th>75%</th>\n",
       "      <td>1.000000</td>\n",
       "      <td>75.700000</td>\n",
       "      <td>1.000000</td>\n",
       "      <td>73.000000</td>\n",
       "      <td>1.000000</td>\n",
       "      <td>2.000000</td>\n",
       "      <td>72.000000</td>\n",
       "      <td>2.000000</td>\n",
       "      <td>1.000000</td>\n",
       "      <td>83.500000</td>\n",
       "      <td>1.000000</td>\n",
       "      <td>66.255000</td>\n",
       "      <td>1.000000</td>\n",
       "      <td>300000.00000</td>\n",
       "    </tr>\n",
       "    <tr>\n",
       "      <th>max</th>\n",
       "      <td>1.000000</td>\n",
       "      <td>89.400000</td>\n",
       "      <td>1.000000</td>\n",
       "      <td>97.700000</td>\n",
       "      <td>1.000000</td>\n",
       "      <td>2.000000</td>\n",
       "      <td>91.000000</td>\n",
       "      <td>2.000000</td>\n",
       "      <td>1.000000</td>\n",
       "      <td>98.000000</td>\n",
       "      <td>1.000000</td>\n",
       "      <td>77.890000</td>\n",
       "      <td>1.000000</td>\n",
       "      <td>940000.00000</td>\n",
       "    </tr>\n",
       "  </tbody>\n",
       "</table>\n",
       "</div>"
      ],
      "text/plain": [
       "           gender       ssc_p       ssc_b       hsc_p       hsc_b       hsc_s  \\\n",
       "count  215.000000  215.000000  215.000000  215.000000  215.000000  215.000000   \n",
       "mean     0.646512   67.303395    0.460465   66.333163    0.609302    1.372093   \n",
       "std      0.479168   10.827205    0.499598   10.897509    0.489045    0.580978   \n",
       "min      0.000000   40.890000    0.000000   37.000000    0.000000    0.000000   \n",
       "25%      0.000000   60.600000    0.000000   60.900000    0.000000    1.000000   \n",
       "50%      1.000000   67.000000    0.000000   65.000000    1.000000    1.000000   \n",
       "75%      1.000000   75.700000    1.000000   73.000000    1.000000    2.000000   \n",
       "max      1.000000   89.400000    1.000000   97.700000    1.000000    2.000000   \n",
       "\n",
       "         degree_p    degree_t      workex     etest_p  specialisation  \\\n",
       "count  215.000000  215.000000  215.000000  215.000000      215.000000   \n",
       "mean    66.370186    0.600000    0.344186   72.100558        0.441860   \n",
       "std      7.358743    0.890238    0.476211   13.275956        0.497767   \n",
       "min     50.000000    0.000000    0.000000   50.000000        0.000000   \n",
       "25%     61.000000    0.000000    0.000000   60.000000        0.000000   \n",
       "50%     66.000000    0.000000    0.000000   71.000000        0.000000   \n",
       "75%     72.000000    2.000000    1.000000   83.500000        1.000000   \n",
       "max     91.000000    2.000000    1.000000   98.000000        1.000000   \n",
       "\n",
       "            mba_p      status        salary  \n",
       "count  215.000000  215.000000     215.00000  \n",
       "mean    62.278186    0.688372  287032.52093  \n",
       "std      5.833385    0.464240   84313.32591  \n",
       "min     51.210000    0.000000  200000.00000  \n",
       "25%     57.945000    0.000000  245000.00000  \n",
       "50%     62.000000    1.000000  268000.00000  \n",
       "75%     66.255000    1.000000  300000.00000  \n",
       "max     77.890000    1.000000  940000.00000  "
      ]
     },
     "execution_count": 5,
     "metadata": {},
     "output_type": "execute_result"
    }
   ],
   "source": [
    "df.describe()"
   ]
  },
  {
   "cell_type": "markdown",
   "metadata": {},
   "source": [
    "# visualizing data"
   ]
  },
  {
   "cell_type": "code",
   "execution_count": 6,
   "metadata": {},
   "outputs": [
    {
     "name": "stdout",
     "output_type": "stream",
     "text": [
      "Number of Students didn't get placed : 67\n",
      "Number of Students who got placed : 148\n"
     ]
    },
    {
     "data": {
      "image/png": "[encoded data removed]",
      "text/plain": [
       "<Figure size 432x288 with 1 Axes>"
      ]
     },
     "metadata": {
      "needs_background": "light"
     },
     "output_type": "display_data"
    }
   ],
   "source": [
    "import matplotlib.pyplot as plt\n",
    "import numpy as np\n",
    "\n",
    "print(\"Number of Students didn't get placed : \"+ str(len(df[df[\"status\"]==0]))) # converted to string because concatenation\n",
    "# cant be done of integer type or of float type\n",
    "print(\"Number of Students who got placed : \"+ str(len(df[df[\"status\"]==1])))\n",
    "\n",
    "plt.bar([-1],height=len(df[df[\"status\"]==0])) # -1 and 1 in other line defines the distance between them \n",
    "plt.bar([1],height=len(df[df[\"status\"]==1]))\n",
    "\n",
    "plt.xlabel(\"Status\")\n",
    "plt.ylabel(\"Count\")\n",
    "\n",
    "import numpy as np\n",
    "plt.xticks(np.arange(-1,3), ('Not placed','enjoying life', 'Placed','awara'))\n",
    "\n",
    "# here -1 defines the starting postion of thes labels in the graph ingenral np is called so as to array([-1,  0,  1,  2])\n",
    "# get this,,,,, it could also be like np.arange(-1,1) which would provide the label at desired loction because we have nothing \n",
    "# at location 0\n",
    "\n",
    "plt.title(\"No of Student placed\\n\")\n",
    "plt.show()"
   ]
  },
  {
   "cell_type": "code",
   "execution_count": 7,
   "metadata": {},
   "outputs": [
    {
     "name": "stdout",
     "output_type": "stream",
     "text": [
      "specialisation in Mkt&Fin 120\n",
      "specialisation in Mkt&HR 95\n"
     ]
    },
    {
     "data": {
      "image/png": "[encoded data removed]",
      "text/plain": [
       "<Figure size 432x288 with 1 Axes>"
      ]
     },
     "metadata": {
      "needs_background": "light"
     },
     "output_type": "display_data"
    }
   ],
   "source": [
    "print(\"specialisation in Mkt&Fin \"+ str(len(df[df[\"specialisation\"]==0])))\n",
    "print(\"specialisation in Mkt&HR \"+ str(len(df[df[\"specialisation\"]==1])))\n",
    "\n",
    "\n",
    "plt.bar([1],height=len(df[df[\"specialisation\"]==1]))\n",
    "plt.bar([0],height=len(df[df[\"specialisation\"]==0]))\n",
    "\n",
    "plt.xlabel(\"specialisation in Mkt&Fin and Mkt&HR\")\n",
    "plt.ylabel(\"no.of specialisation\")\n",
    "plt.xticks(np.arange(2), ('Mkt&Fin', 'Mkt&HR'))\n",
    "plt.title(\"which specialisation is more demand in campus selection\\n\")\n",
    "plt.show()"
   ]
  },
  {
   "cell_type": "code",
   "execution_count": 8,
   "metadata": {},
   "outputs": [
    {
     "data": {
      "text/html": [
       "<div>\n",
       "<style scoped>\n",
       "    .dataframe tbody tr th:only-of-type {\n",
       "        vertical-align: middle;\n",
       "    }\n",
       "\n",
       "    .dataframe tbody tr th {\n",
       "        vertical-align: top;\n",
       "    }\n",
       "\n",
       "    .dataframe thead th {\n",
       "        text-align: right;\n",
       "    }\n",
       "</style>\n",
       "<table border=\"1\" class=\"dataframe\">\n",
       "  <thead>\n",
       "    <tr style=\"text-align: right;\">\n",
       "      <th></th>\n",
       "      <th>gender</th>\n",
       "      <th>ssc_p</th>\n",
       "      <th>ssc_b</th>\n",
       "      <th>hsc_p</th>\n",
       "      <th>hsc_b</th>\n",
       "      <th>hsc_s</th>\n",
       "      <th>degree_p</th>\n",
       "      <th>degree_t</th>\n",
       "      <th>workex</th>\n",
       "      <th>etest_p</th>\n",
       "      <th>specialisation</th>\n",
       "      <th>mba_p</th>\n",
       "    </tr>\n",
       "    <tr>\n",
       "      <th>sl_no</th>\n",
       "      <th></th>\n",
       "      <th></th>\n",
       "      <th></th>\n",
       "      <th></th>\n",
       "      <th></th>\n",
       "      <th></th>\n",
       "      <th></th>\n",
       "      <th></th>\n",
       "      <th></th>\n",
       "      <th></th>\n",
       "      <th></th>\n",
       "      <th></th>\n",
       "    </tr>\n",
       "  </thead>\n",
       "  <tbody>\n",
       "    <tr>\n",
       "      <th>1</th>\n",
       "      <td>1</td>\n",
       "      <td>67.00</td>\n",
       "      <td>1</td>\n",
       "      <td>91.00</td>\n",
       "      <td>1</td>\n",
       "      <td>1</td>\n",
       "      <td>58.00</td>\n",
       "      <td>2</td>\n",
       "      <td>0</td>\n",
       "      <td>55.0</td>\n",
       "      <td>1</td>\n",
       "      <td>58.80</td>\n",
       "    </tr>\n",
       "    <tr>\n",
       "      <th>2</th>\n",
       "      <td>1</td>\n",
       "      <td>79.33</td>\n",
       "      <td>0</td>\n",
       "      <td>78.33</td>\n",
       "      <td>1</td>\n",
       "      <td>2</td>\n",
       "      <td>77.48</td>\n",
       "      <td>2</td>\n",
       "      <td>1</td>\n",
       "      <td>86.5</td>\n",
       "      <td>0</td>\n",
       "      <td>66.28</td>\n",
       "    </tr>\n",
       "    <tr>\n",
       "      <th>3</th>\n",
       "      <td>1</td>\n",
       "      <td>65.00</td>\n",
       "      <td>0</td>\n",
       "      <td>68.00</td>\n",
       "      <td>0</td>\n",
       "      <td>0</td>\n",
       "      <td>64.00</td>\n",
       "      <td>0</td>\n",
       "      <td>0</td>\n",
       "      <td>75.0</td>\n",
       "      <td>0</td>\n",
       "      <td>57.80</td>\n",
       "    </tr>\n",
       "    <tr>\n",
       "      <th>4</th>\n",
       "      <td>1</td>\n",
       "      <td>56.00</td>\n",
       "      <td>0</td>\n",
       "      <td>52.00</td>\n",
       "      <td>0</td>\n",
       "      <td>2</td>\n",
       "      <td>52.00</td>\n",
       "      <td>2</td>\n",
       "      <td>0</td>\n",
       "      <td>66.0</td>\n",
       "      <td>1</td>\n",
       "      <td>59.43</td>\n",
       "    </tr>\n",
       "    <tr>\n",
       "      <th>5</th>\n",
       "      <td>1</td>\n",
       "      <td>85.80</td>\n",
       "      <td>0</td>\n",
       "      <td>73.60</td>\n",
       "      <td>0</td>\n",
       "      <td>1</td>\n",
       "      <td>73.30</td>\n",
       "      <td>0</td>\n",
       "      <td>0</td>\n",
       "      <td>96.8</td>\n",
       "      <td>0</td>\n",
       "      <td>55.50</td>\n",
       "    </tr>\n",
       "    <tr>\n",
       "      <th>...</th>\n",
       "      <td>...</td>\n",
       "      <td>...</td>\n",
       "      <td>...</td>\n",
       "      <td>...</td>\n",
       "      <td>...</td>\n",
       "      <td>...</td>\n",
       "      <td>...</td>\n",
       "      <td>...</td>\n",
       "      <td>...</td>\n",
       "      <td>...</td>\n",
       "      <td>...</td>\n",
       "      <td>...</td>\n",
       "    </tr>\n",
       "    <tr>\n",
       "      <th>211</th>\n",
       "      <td>1</td>\n",
       "      <td>80.60</td>\n",
       "      <td>1</td>\n",
       "      <td>82.00</td>\n",
       "      <td>1</td>\n",
       "      <td>1</td>\n",
       "      <td>77.60</td>\n",
       "      <td>0</td>\n",
       "      <td>0</td>\n",
       "      <td>91.0</td>\n",
       "      <td>0</td>\n",
       "      <td>74.49</td>\n",
       "    </tr>\n",
       "    <tr>\n",
       "      <th>212</th>\n",
       "      <td>1</td>\n",
       "      <td>58.00</td>\n",
       "      <td>1</td>\n",
       "      <td>60.00</td>\n",
       "      <td>1</td>\n",
       "      <td>2</td>\n",
       "      <td>72.00</td>\n",
       "      <td>2</td>\n",
       "      <td>0</td>\n",
       "      <td>74.0</td>\n",
       "      <td>0</td>\n",
       "      <td>53.62</td>\n",
       "    </tr>\n",
       "    <tr>\n",
       "      <th>213</th>\n",
       "      <td>1</td>\n",
       "      <td>67.00</td>\n",
       "      <td>1</td>\n",
       "      <td>67.00</td>\n",
       "      <td>1</td>\n",
       "      <td>1</td>\n",
       "      <td>73.00</td>\n",
       "      <td>0</td>\n",
       "      <td>1</td>\n",
       "      <td>59.0</td>\n",
       "      <td>0</td>\n",
       "      <td>69.72</td>\n",
       "    </tr>\n",
       "    <tr>\n",
       "      <th>214</th>\n",
       "      <td>0</td>\n",
       "      <td>74.00</td>\n",
       "      <td>1</td>\n",
       "      <td>66.00</td>\n",
       "      <td>1</td>\n",
       "      <td>1</td>\n",
       "      <td>58.00</td>\n",
       "      <td>0</td>\n",
       "      <td>0</td>\n",
       "      <td>70.0</td>\n",
       "      <td>1</td>\n",
       "      <td>60.23</td>\n",
       "    </tr>\n",
       "    <tr>\n",
       "      <th>215</th>\n",
       "      <td>1</td>\n",
       "      <td>62.00</td>\n",
       "      <td>0</td>\n",
       "      <td>58.00</td>\n",
       "      <td>1</td>\n",
       "      <td>2</td>\n",
       "      <td>53.00</td>\n",
       "      <td>0</td>\n",
       "      <td>0</td>\n",
       "      <td>89.0</td>\n",
       "      <td>1</td>\n",
       "      <td>60.22</td>\n",
       "    </tr>\n",
       "  </tbody>\n",
       "</table>\n",
       "<p>215 rows × 12 columns</p>\n",
       "</div>"
      ],
      "text/plain": [
       "       gender  ssc_p  ssc_b  hsc_p  hsc_b  hsc_s  degree_p  degree_t  workex  \\\n",
       "sl_no                                                                          \n",
       "1           1  67.00      1  91.00      1      1     58.00         2       0   \n",
       "2           1  79.33      0  78.33      1      2     77.48         2       1   \n",
       "3           1  65.00      0  68.00      0      0     64.00         0       0   \n",
       "4           1  56.00      0  52.00      0      2     52.00         2       0   \n",
       "5           1  85.80      0  73.60      0      1     73.30         0       0   \n",
       "...       ...    ...    ...    ...    ...    ...       ...       ...     ...   \n",
       "211         1  80.60      1  82.00      1      1     77.60         0       0   \n",
       "212         1  58.00      1  60.00      1      2     72.00         2       0   \n",
       "213         1  67.00      1  67.00      1      1     73.00         0       1   \n",
       "214         0  74.00      1  66.00      1      1     58.00         0       0   \n",
       "215         1  62.00      0  58.00      1      2     53.00         0       0   \n",
       "\n",
       "       etest_p  specialisation  mba_p  \n",
       "sl_no                                  \n",
       "1         55.0               1  58.80  \n",
       "2         86.5               0  66.28  \n",
       "3         75.0               0  57.80  \n",
       "4         66.0               1  59.43  \n",
       "5         96.8               0  55.50  \n",
       "...        ...             ...    ...  \n",
       "211       91.0               0  74.49  \n",
       "212       74.0               0  53.62  \n",
       "213       59.0               0  69.72  \n",
       "214       70.0               1  60.23  \n",
       "215       89.0               1  60.22  \n",
       "\n",
       "[215 rows x 12 columns]"
      ]
     },
     "execution_count": 8,
     "metadata": {},
     "output_type": "execute_result"
    }
   ],
   "source": [
    "X = df.drop(['status','salary'], axis = 1)# we see it just drops down the status column and salary column\n",
    "X\n"
   ]
  },
  {
   "cell_type": "code",
   "execution_count": 9,
   "metadata": {},
   "outputs": [
    {
     "data": {
      "text/plain": [
       "sl_no\n",
       "1      1\n",
       "2      1\n",
       "3      1\n",
       "4      0\n",
       "5      1\n",
       "      ..\n",
       "211    1\n",
       "212    1\n",
       "213    1\n",
       "214    1\n",
       "215    0\n",
       "Name: status, Length: 215, dtype: int32"
      ]
     },
     "execution_count": 9,
     "metadata": {},
     "output_type": "execute_result"
    }
   ],
   "source": [
    "y = df['status']\n",
    "y"
   ]
  },
  {
   "cell_type": "markdown",
   "metadata": {},
   "source": [
    "# distribution of our data into training and testing set\n"
   ]
  },
  {
   "cell_type": "code",
   "execution_count": 10,
   "metadata": {},
   "outputs": [
    {
     "data": {
      "text/plain": [
       "gender             0.00\n",
       "ssc_p             67.00\n",
       "ssc_b              0.00\n",
       "hsc_p             70.00\n",
       "hsc_b              0.00\n",
       "hsc_s              1.00\n",
       "degree_p          65.00\n",
       "degree_t           1.00\n",
       "workex             0.00\n",
       "etest_p           88.00\n",
       "specialisation     1.00\n",
       "mba_p             71.96\n",
       "Name: 199, dtype: float64"
      ]
     },
     "execution_count": 10,
     "metadata": {},
     "output_type": "execute_result"
    }
   ],
   "source": [
    "from sklearn.model_selection import train_test_split\n",
    "x_train, x_test, y_train, y_test = train_test_split(X, y, train_size = 0.8, random_state = 0)\n",
    "#x_train\n",
    "#x_test\n",
    "x_test.iloc[0]\n",
    "# uncomment these to see the data we have for training purpose "
   ]
  },
  {
   "cell_type": "code",
   "execution_count": 11,
   "metadata": {},
   "outputs": [],
   "source": [
    "#Applying standard scalar\n",
    "\n",
    "from sklearn.preprocessing import StandardScaler\n",
    "sc = StandardScaler()\n",
    "#x_train = sc.fit_transform(x_train)\n",
    "#x_test = sc.transform(x_test)\n",
    "result = {}\n"
   ]
  },
  {
   "cell_type": "markdown",
   "metadata": {},
   "source": [
    "# training our model\n",
    "M1 - logistic regression model "
   ]
  },
  {
   "cell_type": "code",
   "execution_count": 12,
   "metadata": {},
   "outputs": [
    {
     "name": "stderr",
     "output_type": "stream",
     "text": [
      "C:\\Users\\Avinash\\anaconda3\\lib\\site-packages\\sklearn\\linear_model\\_logistic.py:940: ConvergenceWarning: lbfgs failed to converge (status=1):\n",
      "STOP: TOTAL NO. of ITERATIONS REACHED LIMIT.\n",
      "\n",
      "Increase the number of iterations (max_iter) or scale the data as shown in:\n",
      "    https://scikit-learn.org/stable/modules/preprocessing.html\n",
      "Please also refer to the documentation for alternative solver options:\n",
      "    https://scikit-learn.org/stable/modules/linear_model.html#logistic-regression\n",
      "  extra_warning_msg=_LOGISTIC_SOLVER_CONVERGENCE_MSG)\n"
     ]
    }
   ],
   "source": [
    "from sklearn.linear_model import LogisticRegression\n",
    "model1 = LogisticRegression()\n",
    "result1 = model1.fit(x_train, y_train)\n",
    "\n",
    "\n",
    "# Testing the model\n",
    "predictions1 = result1.predict(x_test)"
   ]
  },
  {
   "cell_type": "code",
   "execution_count": 13,
   "metadata": {},
   "outputs": [],
   "source": [
    "# checking accuracy of our model"
   ]
  },
  {
   "cell_type": "code",
   "execution_count": 14,
   "metadata": {},
   "outputs": [
    {
     "data": {
      "text/plain": [
       "0.813953488372093"
      ]
     },
     "execution_count": 14,
     "metadata": {},
     "output_type": "execute_result"
    }
   ],
   "source": [
    "from sklearn.metrics import accuracy_score,confusion_matrix, classification_report\n",
    "accuracy_score(y_test,predictions1)"
   ]
  },
  {
   "cell_type": "code",
   "execution_count": 15,
   "metadata": {},
   "outputs": [
    {
     "data": {
      "text/plain": [
       "array([[11,  5],\n",
       "       [ 3, 24]], dtype=int64)"
      ]
     },
     "execution_count": 15,
     "metadata": {},
     "output_type": "execute_result"
    }
   ],
   "source": [
    "result['Logistic Regression'] = accuracy_score(y_test,predictions1)\n",
    "matrix1 = confusion_matrix(y_test,predictions1)\n",
    "matrix1"
   ]
  },
  {
   "cell_type": "code",
   "execution_count": 16,
   "metadata": {},
   "outputs": [
    {
     "name": "stdout",
     "output_type": "stream",
     "text": [
      "\n",
      "**Classification Report Of Logistic Regrssion:\n",
      "               precision    recall  f1-score   support\n",
      "\n",
      "           0       0.79      0.69      0.73        16\n",
      "           1       0.83      0.89      0.86        27\n",
      "\n",
      "    accuracy                           0.81        43\n",
      "   macro avg       0.81      0.79      0.80        43\n",
      "weighted avg       0.81      0.81      0.81        43\n",
      "\n"
     ]
    }
   ],
   "source": [
    "print('\\n**Classification Report Of Logistic Regrssion:\\n',classification_report(y_test,predictions1))"
   ]
  },
  {
   "cell_type": "code",
   "execution_count": null,
   "metadata": {},
   "outputs": [],
   "source": []
  },
  {
   "cell_type": "markdown",
   "metadata": {},
   "source": [
    "* M2 - Decision Tree Classifier"
   ]
  },
  {
   "cell_type": "code",
   "execution_count": 17,
   "metadata": {},
   "outputs": [
    {
     "data": {
      "text/plain": [
       "0.7209302325581395"
      ]
     },
     "execution_count": 17,
     "metadata": {},
     "output_type": "execute_result"
    }
   ],
   "source": [
    "from sklearn.tree import DecisionTreeClassifier\n",
    "model2 = DecisionTreeClassifier()\n",
    "result2 = model2.fit(x_train,y_train)\n",
    "predictions2 = result2.predict(x_test)\n",
    "accuracy_score(y_test, predictions2)"
   ]
  },
  {
   "cell_type": "code",
   "execution_count": 18,
   "metadata": {},
   "outputs": [
    {
     "data": {
      "text/plain": [
       "array([[10,  6],\n",
       "       [ 6, 21]], dtype=int64)"
      ]
     },
     "execution_count": 18,
     "metadata": {},
     "output_type": "execute_result"
    }
   ],
   "source": [
    "result['Decision Tree'] = accuracy_score(y_test, predictions2)\n",
    "matrix2 = confusion_matrix(y_test,predictions2)\n",
    "matrix2"
   ]
  },
  {
   "cell_type": "code",
   "execution_count": 19,
   "metadata": {},
   "outputs": [
    {
     "name": "stdout",
     "output_type": "stream",
     "text": [
      "\n",
      "**Classification Report Of Decision Tree:\n",
      "               precision    recall  f1-score   support\n",
      "\n",
      "           0       0.62      0.62      0.62        16\n",
      "           1       0.78      0.78      0.78        27\n",
      "\n",
      "    accuracy                           0.72        43\n",
      "   macro avg       0.70      0.70      0.70        43\n",
      "weighted avg       0.72      0.72      0.72        43\n",
      "\n"
     ]
    }
   ],
   "source": [
    "print('\\n**Classification Report Of Decision Tree:\\n',classification_report(y_test,predictions2))"
   ]
  },
  {
   "cell_type": "markdown",
   "metadata": {},
   "source": [
    "* Random forest classifier"
   ]
  },
  {
   "cell_type": "code",
   "execution_count": 20,
   "metadata": {},
   "outputs": [
    {
     "data": {
      "text/plain": [
       "0.6976744186046512"
      ]
     },
     "execution_count": 20,
     "metadata": {},
     "output_type": "execute_result"
    }
   ],
   "source": [
    "from sklearn.ensemble import RandomForestClassifier\n",
    "model3 = RandomForestClassifier()\n",
    "result3 = model3.fit(x_train,y_train)\n",
    "predictions3 = result3.predict(x_test)\n",
    "accuracy_score(y_test,predictions3)"
   ]
  },
  {
   "cell_type": "code",
   "execution_count": 21,
   "metadata": {},
   "outputs": [
    {
     "data": {
      "text/plain": [
       "array([[ 7,  9],\n",
       "       [ 4, 23]], dtype=int64)"
      ]
     },
     "execution_count": 21,
     "metadata": {},
     "output_type": "execute_result"
    }
   ],
   "source": [
    "result['Random Forest'] = accuracy_score(y_test,predictions3)\n",
    "matrix3 = confusion_matrix(y_test, predictions3)\n",
    "matrix3"
   ]
  },
  {
   "cell_type": "code",
   "execution_count": 22,
   "metadata": {},
   "outputs": [
    {
     "name": "stdout",
     "output_type": "stream",
     "text": [
      "\n",
      "**Classification Report Of Random Forest:\n",
      "               precision    recall  f1-score   support\n",
      "\n",
      "           0       0.64      0.44      0.52        16\n",
      "           1       0.72      0.85      0.78        27\n",
      "\n",
      "    accuracy                           0.70        43\n",
      "   macro avg       0.68      0.64      0.65        43\n",
      "weighted avg       0.69      0.70      0.68        43\n",
      "\n"
     ]
    }
   ],
   "source": [
    "print('\\n**Classification Report Of Random Forest:\\n',classification_report(y_test,predictions3))"
   ]
  },
  {
   "cell_type": "markdown",
   "metadata": {},
   "source": [
    "* k nearest neighbour"
   ]
  },
  {
   "cell_type": "code",
   "execution_count": 23,
   "metadata": {},
   "outputs": [
    {
     "data": {
      "text/plain": [
       "0.6976744186046512"
      ]
     },
     "execution_count": 23,
     "metadata": {},
     "output_type": "execute_result"
    }
   ],
   "source": [
    "from sklearn.neighbors import KNeighborsClassifier\n",
    "model4 = RandomForestClassifier()\n",
    "result4 = model4.fit(x_train,y_train)\n",
    "predictions4 = result4.predict(x_test)\n",
    "accuracy_score(y_test,predictions4)"
   ]
  },
  {
   "cell_type": "code",
   "execution_count": 24,
   "metadata": {},
   "outputs": [
    {
     "data": {
      "text/plain": [
       "array([[ 7,  9],\n",
       "       [ 4, 23]], dtype=int64)"
      ]
     },
     "execution_count": 24,
     "metadata": {},
     "output_type": "execute_result"
    }
   ],
   "source": [
    "result['k-nearest neighbors'] = accuracy_score(y_test, predictions4)\n",
    "matrix4 = confusion_matrix(y_test,predictions4)\n",
    "matrix4"
   ]
  },
  {
   "cell_type": "code",
   "execution_count": 25,
   "metadata": {},
   "outputs": [
    {
     "name": "stdout",
     "output_type": "stream",
     "text": [
      "\n",
      "**Classification Report Of Random Forest:\n",
      "               precision    recall  f1-score   support\n",
      "\n",
      "           0       0.64      0.44      0.52        16\n",
      "           1       0.72      0.85      0.78        27\n",
      "\n",
      "    accuracy                           0.70        43\n",
      "   macro avg       0.68      0.64      0.65        43\n",
      "weighted avg       0.69      0.70      0.68        43\n",
      "\n"
     ]
    }
   ],
   "source": [
    "print('\\n**Classification Report Of Random Forest:\\n',classification_report(y_test,predictions4))"
   ]
  },
  {
   "cell_type": "markdown",
   "metadata": {},
   "source": [
    "# accuracy of models"
   ]
  },
  {
   "cell_type": "code",
   "execution_count": 26,
   "metadata": {},
   "outputs": [
    {
     "data": {
      "text/plain": [
       "{'Logistic Regression': 0.813953488372093,\n",
       " 'Decision Tree': 0.7209302325581395,\n",
       " 'Random Forest': 0.6976744186046512,\n",
       " 'k-nearest neighbors': 0.6976744186046512}"
      ]
     },
     "execution_count": 26,
     "metadata": {},
     "output_type": "execute_result"
    }
   ],
   "source": [
    "result"
   ]
  },
  {
   "cell_type": "code",
   "execution_count": 27,
   "metadata": {},
   "outputs": [
    {
     "name": "stdout",
     "output_type": "stream",
     "text": [
      "ssc_p to placement  60.8 %\n",
      "hsc_p to placement  49.1 %\n",
      "mba_p to placement  7.7 %\n",
      "degree_p to placement  48.0 %\n",
      "etest_p to placement  12.8 %\n",
      "workexp to placement  27.6 %\n"
     ]
    }
   ],
   "source": [
    "print('ssc_p to placement ', round(df['status'].corr(df['ssc_p'])*100,1),'%')\n",
    "print('hsc_p to placement ', round(df['status'].corr(df['hsc_p'])*100,1),'%')\n",
    "print('mba_p to placement ', round(df['status'].corr(df['mba_p'])*100,1),'%')\n",
    "print('degree_p to placement ', round(df['status'].corr(df['degree_p'])*100,1),'%')\n",
    "print('etest_p to placement ', round(df['status'].corr(df['etest_p'])*100,1),'%')\n",
    "print('workexp to placement ', round(df['status'].corr(df['workex'])*100,1),'%')"
   ]
  },
  {
   "cell_type": "markdown",
   "metadata": {},
   "source": [
    "# using gui interface for the above project"
   ]
  },
  {
   "cell_type": "code",
   "execution_count": 28,
   "metadata": {},
   "outputs": [
    {
     "name": "stdout",
     "output_type": "stream",
     "text": [
      "Index(['sl_no', 'gender', 'ssc_p', 'ssc_b', 'hsc_p', 'hsc_b', 'hsc_s',\n",
      "       'degree_p', 'degree_t', 'workex', 'etest_p', 'specialisation', 'mba_p',\n",
      "       'status', 'salary'],\n",
      "      dtype='object')\n"
     ]
    },
    {
     "data": {
      "text/plain": [
       "('M', 'F')"
      ]
     },
     "execution_count": 28,
     "metadata": {},
     "output_type": "execute_result"
    }
   ],
   "source": [
    "clms=df2.columns\n",
    "print(clms)\n",
    "gndr=tuple(df2['gender'].unique())\n",
    "sscb= tuple(df2['ssc_b'].unique())\n",
    "hscb= tuple(df2['hsc_b'].unique())\n",
    "hscs= tuple(df2['hsc_s'].unique())\n",
    "degreet=tuple(df2['degree_t'].unique())\n",
    "work=tuple(df2['workex'].unique())\n",
    "spc=tuple(df2['specialisation'].unique())\n",
    "gndr\n"
   ]
  },
  {
   "cell_type": "code",
   "execution_count": 29,
   "metadata": {},
   "outputs": [
    {
     "name": "stdout",
     "output_type": "stream",
     "text": [
      "[1 0] ['M' 'F']\n",
      "[1 0] ['Others' 'Central']\n",
      "[1 0] ['Others' 'Central']\n",
      "[1 2 0] ['Commerce' 'Science' 'Arts']\n",
      "[2 0 1] ['Sci&Tech' 'Comm&Mgmt' 'Others']\n",
      "[0 1] ['No' 'Yes']\n",
      "[1 0] ['Mkt&HR' 'Mkt&Fin']\n",
      "[1 0] ['Placed' 'Not Placed']\n"
     ]
    }
   ],
   "source": [
    "print(df['gender'].unique(),df2['gender'].unique())\n",
    "print(df['ssc_b'].unique(),df2['ssc_b'].unique())\n",
    "print(df['hsc_b'].unique(),df2['hsc_b'].unique())\n",
    "print(df['hsc_s'].unique(),df2['hsc_s'].unique())\n",
    "print(df['degree_t'].unique(),df2['degree_t'].unique())\n",
    "print(df['workex'].unique(),df2['workex'].unique())\n",
    "print(df['specialisation'].unique(),df2['specialisation'].unique())\n",
    "print(df['status'].unique(),df2['status'].unique())"
   ]
  },
  {
   "cell_type": "code",
   "execution_count": 30,
   "metadata": {},
   "outputs": [
    {
     "name": "stdout",
     "output_type": "stream",
     "text": [
      "['M', '89', 'Central', '78', 'Central', 'Commerce', '89', 'Comm&Mgmt', 'Yes', '78', 'Mkt&Fin', '89']\n",
      "[1]\n",
      "['M', '19', 'Central', '18', 'Central', 'Commerce', '19', 'Comm&Mgmt', 'Yes', '18', 'Mkt&Fin', '19']\n",
      "[0]\n"
     ]
    }
   ],
   "source": [
    "from tkinter import *\n",
    "from tkinter import ttk\n",
    "from tkinter import messagebox\n",
    "from pandas import DataFrame\n",
    "import matplotlib.pyplot as plt\n",
    "from matplotlib.figure import Figure \n",
    "from matplotlib.backends.backend_tkagg import (FigureCanvasTkAgg,NavigationToolbar2Tk) \n",
    "\n",
    "root=Tk()\n",
    "root.title(\"check your placement status\")\n",
    "root.configure(background='lavender')\n",
    "\n",
    "#root.overrideredirect(True)\n",
    "root.geometry(\"{0}x{1}+1+1\".format(root.winfo_screenwidth(), root.winfo_screenheight()))\n",
    "#root.focus_set()  \n",
    "\n",
    "# go through the predict functon at last \n",
    "def predict():\n",
    "    d=[c1.get(),c2.get(),c3.get(),c4.get(),c5.get(),c6.get(),c7.get(),c8.get(),c9.get(),c10.get(),c11.get(),c12.get()]\n",
    "    print(d)\n",
    "    \n",
    "    # as the data we are going to enter in tkinter is going to be a mixture of categorical and integer and float \n",
    "    # so here we will convert that to corresponding integer and float type\n",
    "    e1=[int(1 if c1.get()=='M' else 0)]\n",
    "    e2=[float(c2.get())]\n",
    "    e3=[int(1 if c3.get()=='Others' else 0)]\n",
    "    e4=[float(c4.get())]\n",
    "    e5=[int(1 if c5.get()=='Others' else 0)]\n",
    "    e6=[int(1 if c6.get()=='Commerce' else 2 if c5.get()=='Science' else 0)]\n",
    "    e7=[float(c7.get())]\n",
    "    e8=[int(2 if c8.get()=='Sci&Tech' else 0 if c8.get()=='Comm&Mgmt' else 1)]\n",
    "    e9=[int(0 if c9.get()=='No' else 1)]\n",
    "    e10=[float(c10.get())]\n",
    "    e11=[int(1 if c11.get()=='Mkt&HR' else 0)]\n",
    "    e12=[float(c12.get())]\n",
    "    e=[e1+e2+e3+e4+e5+e6+e7+e8+e9+e10+e11+e12]\n",
    "    \n",
    "    answer=result4.predict(e)\n",
    "    print(answer)\n",
    "    \n",
    "    if answer[0]==1:\n",
    "        \n",
    "        root2=Tk()\n",
    "        root2.title(\"You will get placed from the campus\")\n",
    "        root2.geometry('950x400')\n",
    "        root2.configure(background='lavender')\n",
    "        \n",
    "        lable2 = Label(root2, text=\"Congratulations You will get placed from campus.\",background='thistle',fg=\"DodgerBlue2\",font = \"Arial 25 bold\",anchor=\"w\", borderwidth=5,relief=\"sunken\",highlightcolor=\"#D2691E\").place(x=90, y=100)\n",
    "            \n",
    "        button3 = Button(root2, text='Ok  THANKS ALOT', command=root2.destroy,width=30,background='#A0522D',relief='groove',font = \"Arial 15\",fg=\"#FDF5E6\")\n",
    "        button3.place(x=100,y=200)\n",
    "        root2.mainloop()\n",
    "            \n",
    "    else:\n",
    "         \n",
    "        root2=Tk()\n",
    "        root2.title(\"You will not get placed from the campus\")\n",
    "        root2.geometry('950x400')\n",
    "        root2.configure(background='lavender')\n",
    "        \n",
    "        lable2 = Label(root2, text=\"Sorry to say, You will not get placed from campus.\",background='thistle',fg=\"DodgerBlue2\",font = \"Arial 25 bold\",anchor=\"w\", borderwidth=5,relief=\"sunken\",highlightcolor=\"#D2691E\").place(x=90, y=100)\n",
    "            \n",
    "        button3 = Button(root2, text='Ok  THANKS ALOT', command=root2.destroy,width=30,background='#A0522D',relief='groove',font = \"Arial 15\",fg=\"#FDF5E6\")\n",
    "        button3.place(x=100,y=200)\n",
    "     \n",
    "        \n",
    "\n",
    "        def analyse():\n",
    "            root1=Tk()\n",
    "\n",
    "            root1.title(\"placed or not placed\")\n",
    "            root1.geometry(\"{0}x{1}+1+1\".format(root.winfo_screenwidth(), root.winfo_screenheight()))\n",
    "            root1.configure(background='lavender')\n",
    "\n",
    "            fig = Figure(figsize = (11,5), dpi = 100)\n",
    "\n",
    "            huh1={'factor':['ssc_p','hsc_p','mba_p','degree_p','etest_p','workex'],\n",
    "                  'placement percentage':[round(df['status'].corr(df['ssc_p'])*100),round(df['status'].corr(df['hsc_p'])*100),\n",
    "                                         round(df['status'].corr(df['mba_p'])*100),round(df['status'].corr(df['degree_p'])*100),\n",
    "                                         round(df['status'].corr(df['etest_p'])*100),round(df['status'].corr(df['workex'])*100)]}\n",
    "            huh = DataFrame(huh1,columns=['factor','placement percentage'])\n",
    "\n",
    "            plot1 = fig.add_subplot(111)\n",
    "            huh = huh[['factor','placement percentage']].groupby('factor').sum()\n",
    "            huh.plot(kind='bar', legend=True, ax=plot1)\n",
    "\n",
    "            #plot1.bar([0],height=round(df['status'].corr(df['ssc_p'])*100)) \n",
    "            #plot1.bar([1],height=round(df['status'].corr(df['hsc_p'])*100))\n",
    "            #plot1.bar([2],height=round(df['status'].corr(df['mba_p'])*100))\n",
    "            #plot1.bar([3],height=round(df['status'].corr(df['degree_p'])*100))\n",
    "            #plot1.bar([4],height=round(df['status'].corr(df['etest_p'])*100))\n",
    "            #plot1.bar([5],height=round(df['status'].corr(df['workex'])*100))\n",
    "\n",
    "            #plot1.set_xlabel(\"specialisation in Mkt&Fin and Mkt&HR\")\n",
    "            #plot1.set_ylabel(\"no.of specialisation\")\n",
    "            button3 = Button(root1, text='Ok I got it', command=root1.destroy,width=30,background='LightSteelBlue1',relief='groove',font = \"Arial 15\",fg=\"firebrick1\")\n",
    "            button3.place(x=520,y=600)\n",
    "            lable = Label(root1, text=\"So you can see that the most important thing to get placed is ssc_p . So dude try to upskill that:\",background='LightYellow3',font = \"Arial 15 bold\",fg=\"red2\",borderwidth=5,relief=\"sunken\",highlightcolor=\"orange\").place(x=200, y=550)\n",
    "            \n",
    "            canvas = FigureCanvasTkAgg(fig, master = root1)  \n",
    "            canvas.draw()\n",
    "            canvas.get_tk_widget().pack()\n",
    "            toolbar = NavigationToolbar2Tk(canvas,root1) \n",
    "            toolbar.update() \n",
    "\n",
    "            # placing the toolbar on the Tkinter window \n",
    "            canvas.get_tk_widget().pack()\n",
    "            root1.mainloop()\n",
    "            \n",
    "        button4 = Button(root2, text='Analyse', command=analyse,width=10,background='#A0522D',relief='groove',font = \"Arial 15\",fg=\"#FDF5E6\")\n",
    "        button4.place(x=400,y=200)        \n",
    "        root2.mainloop()  \n",
    "            \n",
    "C = Canvas(root,background='lavender')\n",
    "filename = PhotoImage(file = \"campus22.png\")\n",
    "background_label = Label(root, image=filename,borderwidth=7,relief='groove')\n",
    "background_label.place(x=10, y=200)\n",
    "\n",
    "imagelogo=PhotoImage(file='campus.png')\n",
    "logo = Label(root, image=imagelogo,background='#FFE4C4')\n",
    "logo.place(x=75, y=-20)\n",
    "lable1 = Label(root, text=\"Campus Recruitment\",background='azure',fg=\"SkyBlue1\",font = \"Arial 50 bold\",borderwidth=15,relief=\"groove\",highlightcolor=\"orange\").place(x=340, y=30)\n",
    "\n",
    "imageex=PhotoImage(file='campus.png')\n",
    "imgg = Label(root, image=imageex)\n",
    "imgg.place(x=1050, y=-20)\n",
    "lable1 = Label(root, text=\"Here you will know probability of getting placed from campus.\",background='thistle',fg=\"DodgerBlue2\",font = \"Arial 15 bold\",anchor=\"w\", borderwidth=5,relief=\"sunken\",highlightcolor=\"#D2691E\").place(x=390, y=150)\n",
    "\n",
    "\n",
    "lable1 = Label(root, text=\"gender:\",background='lavender',font = \"Arial 15 bold\",fg=\"#D2691E\").place(x=790, y=200)\n",
    "lable2 = Label(root, text=\"ssc_percentage:\",background='lavender',font = \"Arial 15 bold\",fg=\"#D2691E\").place(x=790, y=230)\n",
    "lable3 = Label(root, text=\"ssc_board:\",background='lavender',font = \"Arial 15 bold\",fg=\"#D2691E\").place(x=790, y=260)\n",
    "lable4 = Label(root, text=\"hsc_percentage:\",background='lavender',font = \"Arial 15 bold\",fg=\"#D2691E\").place(x=790, y=290)\n",
    "lable5 = Label(root, text=\"hsc_board:\",background='lavender',font = \"Arial 15 bold\",fg=\"#D2691E\").place(x=790, y=320)\n",
    "lable6 = Label(root, text=\"hsc_stream:\",background='lavender',font = \"Arial 15 bold\",fg=\"#D2691E\").place(x=790, y=350)\n",
    "lable7 = Label(root, text=\"degree_percentage:\",background='lavender',font = \"Arial 15 bold\",fg=\"#D2691E\").place(x=790, y=380)\n",
    "lable8 = Label(root, text=\"degree:\",background='lavender',font = \"Arial 15 bold\",fg=\"#D2691E\").place(x=790, y=410)\n",
    "lable9 = Label(root, text=\"work_exp:\",background='lavender',font = \"Arial 15 bold\",fg=\"#D2691E\").place(x=790, y=440)\n",
    "lable10 = Label(root, text=\"etest_p\",background='lavender',font = \"Arial 15 bold\",fg=\"#D2691E\").place(x=790, y=470)\n",
    "lable11 = Label(root, text=\"specialization:\",background='lavender',font = \"Arial 15 bold\",fg=\"#D2691E\").place(x=790, y=500)\n",
    "lable12 = Label(root, text=\"mba_percentage:\",background='lavender',font = \"Arial 15 bold\",fg=\"#D2691E\").place(x=790, y=530)\n",
    "\n",
    "c1 = ttk.Combobox(root, width = 27,values = gndr ); c1.place(x=1000,y=200)\n",
    "c2=  ttk.Entry(root,width=27);c2.place(x=1000,y=230)\n",
    "c3=  ttk.Combobox(root, width = 27,values = sscb ); c3.place(x=1000,y=260)\n",
    "c4=  ttk.Entry(root,width=27);c4.place(x=1000,y=290)\n",
    "c5=  ttk.Combobox(root, width = 27,values = hscb ); c5.place(x=1000,y=320)\n",
    "c6=  ttk.Combobox(root, width = 27,values = hscs ); c6.place(x=1000,y=350)\n",
    "c7=  ttk.Entry(root,width=27);c7.place(x=1000,y=380)\n",
    "c8=  ttk.Combobox(root, width = 27,values = degreet ); c8.place(x=1000,y=410)\n",
    "c9=  ttk.Combobox(root, width = 27,values = work ); c9.place(x=1000,y=440)\n",
    "c10=  ttk.Entry(root,width=27);c10.place(x=1000,y=470)\n",
    "c11=  ttk.Combobox(root, width = 27,values = spc ); c11.place(x=1000,y=500)\n",
    "c12=  ttk.Entry(root,width=27);c12.place(x=1000,y=530)\n",
    "\n",
    "button1 = Button(root, text=\"Predict\",command=predict,width=10,background='#A0522D',relief='groove',font = \"Arial 15\",fg=\"#FDF5E6\")\n",
    "button1.place(x=800, y=600)\n",
    "button2 = Button(root, text='Close', command=root.destroy,width=10,background='#A0522D',relief='groove',font = \"Arial 15\",fg=\"#FDF5E6\")\n",
    "button2.place(x=950,y=600)\n",
    "\n",
    "\n",
    "#C.pack()\n",
    "root.mainloop()"
   ]
  },
  {
   "cell_type": "code",
   "execution_count": 31,
   "metadata": {},
   "outputs": [
    {
     "data": {
      "text/plain": [
       "[[2, 3, 4]]"
      ]
     },
     "execution_count": 31,
     "metadata": {},
     "output_type": "execute_result"
    }
   ],
   "source": [
    "a1=[2]\n",
    "a2=[3]\n",
    "a3=[4]\n",
    "a=[a1+a2+a3]\n",
    "a"
   ]
  },
  {
   "cell_type": "code",
   "execution_count": 32,
   "metadata": {},
   "outputs": [],
   "source": [
    "y=round(df['status'].corr(df['ssc_p'])*100)"
   ]
  },
  {
   "cell_type": "code",
   "execution_count": null,
   "metadata": {},
   "outputs": [],
   "source": []
  },
  {
   "cell_type": "code",
   "execution_count": null,
   "metadata": {},
   "outputs": [],
   "source": []
  }
 ],
 "metadata": {
  "kernelspec": {
   "display_name": "Python 3",
   "language": "python",
   "name": "python3"
  },
  "language_info": {
   "codemirror_mode": {
    "name": "ipython",
    "version": 3
   },
   "file_extension": ".py",
   "mimetype": "text/x-python",
   "name": "python",
   "nbconvert_exporter": "python",
   "pygments_lexer": "ipython3",
   "version": "3.7.6"
  }
 },
 "nbformat": 4,
 "nbformat_minor": 4
}
